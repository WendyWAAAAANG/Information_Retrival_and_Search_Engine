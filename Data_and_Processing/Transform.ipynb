{
 "cells": [
  {
   "cell_type": "code",
   "execution_count": 1,
   "id": "2fd8bba5",
   "metadata": {},
   "outputs": [],
   "source": [
    "import pandas as pd\n",
    "import numpy as np\n",
    "import json"
   ]
  },
  {
   "cell_type": "code",
   "execution_count": 2,
   "id": "1c58a88e",
   "metadata": {},
   "outputs": [],
   "source": [
    "data = pd.read_csv('drug.csv')"
   ]
  },
  {
   "cell_type": "code",
   "execution_count": 3,
   "id": "d9d310e8",
   "metadata": {},
   "outputs": [],
   "source": [
    "data.to_json('drug.json')"
   ]
  },
  {
   "cell_type": "code",
   "execution_count": 4,
   "id": "48e58aa7",
   "metadata": {},
   "outputs": [],
   "source": [
    "df = pd.read_json('drug.json')"
   ]
  },
  {
   "cell_type": "code",
   "execution_count": 14,
   "id": "6e1262d0",
   "metadata": {},
   "outputs": [],
   "source": [
    "idx = len(data)//2\n",
    "df1 = data.iloc[0:idx]\n",
    "df2 = data.iloc[idx:]\n",
    "df1.to_csv('drug1.csv')\n",
    "df2.to_json('drug1.json')"
   ]
  },
  {
   "cell_type": "code",
   "execution_count": null,
   "id": "4f5da8ca",
   "metadata": {},
   "outputs": [],
   "source": []
  }
 ],
 "metadata": {
  "kernelspec": {
   "display_name": "Python 3 (ipykernel)",
   "language": "python",
   "name": "python3"
  },
  "language_info": {
   "codemirror_mode": {
    "name": "ipython",
    "version": 3
   },
   "file_extension": ".py",
   "mimetype": "text/x-python",
   "name": "python",
   "nbconvert_exporter": "python",
   "pygments_lexer": "ipython3",
   "version": "3.8.10"
  }
 },
 "nbformat": 4,
 "nbformat_minor": 5
}
